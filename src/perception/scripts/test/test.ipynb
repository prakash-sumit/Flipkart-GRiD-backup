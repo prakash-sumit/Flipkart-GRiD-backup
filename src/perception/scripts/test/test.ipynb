{
 "cells": [
  {
   "cell_type": "code",
   "execution_count": 4,
   "metadata": {},
   "outputs": [
    {
     "name": "stdout",
     "output_type": "stream",
     "text": [
      "1001731001001000 16\n"
     ]
    }
   ],
   "source": [
    "\n",
    "task = 1\n",
    "steps_x = 173\n",
    "steps_y = -10\n",
    "steps_z = 1000\n",
    "x,y,z = '','',''\n",
    "t = str(task)\n",
    "if(steps_x < 0):\n",
    "    m = str(abs(steps_x))\n",
    "    x = '1'+'0'*(4-len(m))+m\n",
    "else:\n",
    "    m = str(abs(steps_x))\n",
    "    x = '0'+'0'*(4-len(m))+m\n",
    "if(steps_y < 0):\n",
    "    m = str(abs(steps_y))\n",
    "    y = '1'+'0'*(4-len(m))+m\n",
    "else:\n",
    "    m = str(abs(steps_y))\n",
    "    y = '0'+'0'*(4-len(m))+m\n",
    "if(steps_z < 0):\n",
    "    m = str(abs(steps_z))\n",
    "    z = '1'+'0'*(4-len(m))+m\n",
    "else:\n",
    "    m = str(abs(steps_z))\n",
    "    z = '0'+'0'*(4-len(m))+m\n",
    "encoded_string = t+x+y+z\n",
    "print(encoded_string, len(encoded_string))\n",
    "encoded_number = int(encoded_string)\n",
    "            "
   ]
  }
 ],
 "metadata": {
  "kernelspec": {
   "display_name": "Python 3",
   "language": "python",
   "name": "python3"
  },
  "language_info": {
   "codemirror_mode": {
    "name": "ipython",
    "version": 3
   },
   "file_extension": ".py",
   "mimetype": "text/x-python",
   "name": "python",
   "nbconvert_exporter": "python",
   "pygments_lexer": "ipython3",
   "version": "3.11.5"
  }
 },
 "nbformat": 4,
 "nbformat_minor": 2
}
